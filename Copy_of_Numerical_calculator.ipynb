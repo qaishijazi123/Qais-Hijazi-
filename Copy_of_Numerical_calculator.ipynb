{
  "nbformat": 4,
  "nbformat_minor": 0,
  "metadata": {
    "colab": {
      "provenance": [],
      "authorship_tag": "ABX9TyMs5ZGb9XxAbz6OXwfLwD0W",
      "include_colab_link": true
    },
    "kernelspec": {
      "name": "python3",
      "display_name": "Python 3"
    },
    "language_info": {
      "name": "python"
    }
  },
  "cells": [
    {
      "cell_type": "markdown",
      "metadata": {
        "id": "view-in-github",
        "colab_type": "text"
      },
      "source": [
        "<a href=\"https://colab.research.google.com/github/qaishijazi123/Qais-Hijazi-/blob/main/Copy_of_Numerical_calculator.ipynb\" target=\"_parent\"><img src=\"https://colab.research.google.com/assets/colab-badge.svg\" alt=\"Open In Colab\"/></a>"
      ]
    },
    {
      "cell_type": "code",
      "execution_count": null,
      "metadata": {
        "id": "LNMcP3-cYIHa",
        "outputId": "4ef06499-7643-49bc-aa6b-9e39069e4f4d",
        "colab": {
          "base_uri": "https://localhost:8080/"
        }
      },
      "outputs": [
        {
          "output_type": "stream",
          "name": "stdout",
          "text": [
            "Choose the first number: 2\n",
            "Choose the second number: 2\n",
            "Choose an operation (+, -, *, /, **): 2\n",
            "Invalid operation entered.\n",
            "Program ends...\n"
          ]
        }
      ],
      "source": [
        "# Numerical Calculator\n",
        "n1 = float(input(\"Choose the first number: \"))\n",
        "n2 = float(input(\"Choose the second number: \"))\n",
        "symbol = input(\"Choose an operation (+, -, *, /, **): \")\n",
        "\n",
        "if symbol == \"+\":\n",
        "    print(f\"Result: {n1 + n2}\")\n",
        "elif symbol == \"-\":\n",
        "    print(f\"Result: {n1 - n2}\")\n",
        "elif symbol == \"*\":\n",
        "    print(f\"Result: {n1 * n2}\")\n",
        "elif symbol == \"/\":\n",
        "    if n2 != 0:\n",
        "        print(f\"Result: {n1 / n2}\")\n",
        "    else:\n",
        "        print(\"Error: Division by zero is not allowed.\")\n",
        "elif symbol == \"**\":\n",
        "    print(f\"Result: {n1 ** n2}\")\n",
        "else:\n",
        "    print(\"Invalid operation entered.\")\n",
        "\n",
        "print(\"Program ends...\")\n"
      ]
    }
  ]
}