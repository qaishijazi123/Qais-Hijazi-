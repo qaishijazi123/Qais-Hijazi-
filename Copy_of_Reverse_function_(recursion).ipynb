{
  "nbformat": 4,
  "nbformat_minor": 0,
  "metadata": {
    "colab": {
      "provenance": [],
      "authorship_tag": "ABX9TyNvQ+6N17+sO/xZiL7aa6bz",
      "include_colab_link": true
    },
    "kernelspec": {
      "name": "python3",
      "display_name": "Python 3"
    },
    "language_info": {
      "name": "python"
    }
  },
  "cells": [
    {
      "cell_type": "markdown",
      "metadata": {
        "id": "view-in-github",
        "colab_type": "text"
      },
      "source": [
        "<a href=\"https://colab.research.google.com/github/qaishijazi123/Qais-Hijazi-/blob/main/Copy_of_Reverse_function_(recursion).ipynb\" target=\"_parent\"><img src=\"https://colab.research.google.com/assets/colab-badge.svg\" alt=\"Open In Colab\"/></a>"
      ]
    },
    {
      "cell_type": "code",
      "execution_count": null,
      "metadata": {
        "id": "9akJCzfrZ3Du",
        "outputId": "d8d7198f-9be9-4fd0-b61f-d2cd4425bd1e",
        "colab": {
          "base_uri": "https://localhost:8080/"
        }
      },
      "outputs": [
        {
          "output_type": "stream",
          "name": "stdout",
          "text": [
            "!dlroW ,olleH\n",
            "2.375\n"
          ]
        }
      ],
      "source": [
        "# Reverse Function\n",
        "def reverse_string(s):\n",
        "    if len(s) <= 1:\n",
        "        return s\n",
        "    else:\n",
        "        return reverse_string(s[1:]) + s[0]\n",
        "\n",
        "# Example usage:\n",
        "print(reverse_string(\"Hello, World!\"))\n",
        "# Output: !dlroW ,olleH\n",
        "\n",
        "\n",
        "# Weighted Average Function\n",
        "def wAvg(L, w):\n",
        "    try:\n",
        "        # Ensure the lengths of L and w are the same\n",
        "        if len(L) != len(w):\n",
        "            raise ValueError(\"Lists must have the same length.\")\n",
        "\n",
        "        res = []\n",
        "        for i in range(len(L)):\n",
        "            res.append(L[i] * w[i])\n",
        "\n",
        "        return sum(res) / sum(w)  # Return the weighted average\n",
        "\n",
        "    except ZeroDivisionError:\n",
        "        print(\"Can't divide by Zero.\")\n",
        "        return float('nan')\n",
        "    except TypeError:\n",
        "        print(\"Wrong object type.\")\n",
        "        return float('nan')\n",
        "    except Exception as e:\n",
        "        print(f\"Unknown Error: {e}\")\n",
        "        return float('nan')\n",
        "\n",
        "# Example usage:\n",
        "result = wAvg([1, 2, 3], [0.1, 0.3, 0.4])\n",
        "print(result)\n",
        "# Output: 2.375\n"
      ]
    }
  ]
}