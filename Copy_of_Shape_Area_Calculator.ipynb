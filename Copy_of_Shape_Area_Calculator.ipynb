{
  "nbformat": 4,
  "nbformat_minor": 0,
  "metadata": {
    "colab": {
      "provenance": [],
      "authorship_tag": "ABX9TyOdUDX+eJz+qmj22HkHJZPm",
      "include_colab_link": true
    },
    "kernelspec": {
      "name": "python3",
      "display_name": "Python 3"
    },
    "language_info": {
      "name": "python"
    }
  },
  "cells": [
    {
      "cell_type": "markdown",
      "metadata": {
        "id": "view-in-github",
        "colab_type": "text"
      },
      "source": [
        "<a href=\"https://colab.research.google.com/github/qaishijazi123/Qais-Hijazi-/blob/main/Copy_of_Shape_Area_Calculator.ipynb\" target=\"_parent\"><img src=\"https://colab.research.google.com/assets/colab-badge.svg\" alt=\"Open In Colab\"/></a>"
      ]
    },
    {
      "cell_type": "code",
      "execution_count": null,
      "metadata": {
        "colab": {
          "base_uri": "https://localhost:8080/"
        },
        "id": "LkhivZ0RXqKV",
        "outputId": "e4c7f6ff-531e-4876-b293-7f1fb75d37a1"
      },
      "outputs": [
        {
          "output_type": "stream",
          "name": "stdout",
          "text": [
            "Provide a value for the radius (in ft): 5\n",
            "Provide a value for the side of the square (in ft): 5\n",
            "Provide a value for the height (if applicable, in ft): 4\n",
            "Choose a shape ('circle', 'sq', 'triangle', or 'cylinder'): 3\n",
            "Invalid shape selected.\n",
            "Program ends...\n"
          ]
        }
      ],
      "source": [
        "# Shape Area Calculator\n",
        "pi = 3.14\n",
        "r = float(input(\"Provide a value for the radius (in ft): \"))\n",
        "c = float(input(\"Provide a value for the side of the square (in ft): \"))\n",
        "h = float(input(\"Provide a value for the height (if applicable, in ft): \"))\n",
        "shape = input(\"Choose a shape ('circle', 'sq', 'triangle', or 'cylinder'): \").lower()\n",
        "\n",
        "if shape == 'circle':\n",
        "    area = pi * r ** 2\n",
        "    print(f\"Area of the circle is {area:.2f} sq ft.\")\n",
        "elif shape == 'sq':\n",
        "    area = c ** 2\n",
        "    print(f\"Area of the square is {area:.2f} sq ft.\")\n",
        "elif shape == 'triangle':\n",
        "    area = 0.5 * c * h\n",
        "    print(f\"Area of the triangle is {area:.2f} sq ft.\")\n",
        "elif shape == 'cylinder':\n",
        "    area = 2 * pi * r * h + 2 * pi * r ** 2\n",
        "    print(f\"Surface area of the cylinder is {area:.2f} sq ft.\")\n",
        "else:\n",
        "    print(\"Invalid shape selected.\")\n",
        "\n",
        "print(\"Program ends...\")\n"
      ]
    }
  ]
}