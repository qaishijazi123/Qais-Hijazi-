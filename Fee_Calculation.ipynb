{
  "nbformat": 4,
  "nbformat_minor": 0,
  "metadata": {
    "colab": {
      "provenance": [],
      "authorship_tag": "ABX9TyNmIF9N7+s1qFv9nk078fZW",
      "include_colab_link": true
    },
    "kernelspec": {
      "name": "python3",
      "display_name": "Python 3"
    },
    "language_info": {
      "name": "python"
    }
  },
  "cells": [
    {
      "cell_type": "markdown",
      "metadata": {
        "id": "view-in-github",
        "colab_type": "text"
      },
      "source": [
        "<a href=\"https://colab.research.google.com/github/qaishijazi123/Qais-Hijazi-/blob/main/Fee_Calculation.ipynb\" target=\"_parent\"><img src=\"https://colab.research.google.com/assets/colab-badge.svg\" alt=\"Open In Colab\"/></a>"
      ]
    },
    {
      "cell_type": "code",
      "execution_count": 1,
      "metadata": {
        "colab": {
          "base_uri": "https://localhost:8080/"
        },
        "id": "rvzRy0jb1ppA",
        "outputId": "8000b89f-9e97-43d7-d5ed-fdf208ce9057"
      },
      "outputs": [
        {
          "output_type": "stream",
          "name": "stdout",
          "text": [
            "Enter hours: 15\n",
            "Fee is: 42.5\n"
          ]
        }
      ],
      "source": [
        "def calcfee(hours, decimals=2):\n",
        "    fee = 5 + hours * 2.5\n",
        "    return round(fee, decimals)\n",
        "\n",
        "def displayfee(fee):\n",
        "    print(f\"Fee is: {fee}\")\n",
        "\n",
        "# Main program\n",
        "h = int(input(\"Enter hours: \"))\n",
        "fee = calcfee(h)\n",
        "displayfee(fee)\n"
      ]
    }
  ]
}