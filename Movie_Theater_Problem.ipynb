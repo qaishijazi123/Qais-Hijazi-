{
  "nbformat": 4,
  "nbformat_minor": 0,
  "metadata": {
    "colab": {
      "provenance": [],
      "authorship_tag": "ABX9TyOquB0VIjPkfnBa/6bbwLEl",
      "include_colab_link": true
    },
    "kernelspec": {
      "name": "python3",
      "display_name": "Python 3"
    },
    "language_info": {
      "name": "python"
    }
  },
  "cells": [
    {
      "cell_type": "markdown",
      "metadata": {
        "id": "view-in-github",
        "colab_type": "text"
      },
      "source": [
        "<a href=\"https://colab.research.google.com/github/qaishijazi123/Qais-Hijazi-/blob/main/Movie_Theater_Problem.ipynb\" target=\"_parent\"><img src=\"https://colab.research.google.com/assets/colab-badge.svg\" alt=\"Open In Colab\"/></a>"
      ]
    },
    {
      "cell_type": "code",
      "execution_count": null,
      "metadata": {
        "colab": {
          "base_uri": "https://localhost:8080/"
        },
        "id": "ay8-hbaDWljv",
        "outputId": "745946e7-5fc2-493f-c42b-c02801b74cc1"
      },
      "outputs": [
        {
          "output_type": "stream",
          "name": "stdout",
          "text": [
            "Ads        Profit    \n",
            "0.0        $0.00      \n",
            "25.0       $75.00     \n",
            "50.0       $90.00     \n",
            "75.0       $105.00    \n",
            "100.0      $100.00    \n",
            "125.0      $95.00     \n",
            "150.0      $90.00     \n",
            "175.0      $85.00     \n",
            "200.0      $80.00     \n"
          ]
        }
      ],
      "source": [
        "# Movie Theater Problem\n",
        "\n",
        "# Initial setup\n",
        "init_attendees = 20  # Base number of attendees without advertising\n",
        "fixed_cost = 200  # Fixed cost to run the theater\n",
        "\n",
        "# Print the table header\n",
        "print(f'{\"Ads\":<10} {\"Profit\":<10}')\n",
        "\n",
        "# Loop through advertising spending in increments of 25 (from $0 to $200)\n",
        "for advertising in range(0, 201, 25):\n",
        "    ad = float(advertising)  # Advertising spending\n",
        "    # Calculate total attendees\n",
        "    attendees = float(2 * round(advertising**0.5) + init_attendees)\n",
        "    # Calculate profit\n",
        "    profit = float((attendees * 10) - advertising - fixed_cost)\n",
        "    # Print the results in a table format\n",
        "    print(f'{ad:<10} ${profit:<10.2f}')\n"
      ]
    }
  ]
}