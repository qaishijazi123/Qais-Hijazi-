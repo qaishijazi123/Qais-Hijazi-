{
  "nbformat": 4,
  "nbformat_minor": 0,
  "metadata": {
    "colab": {
      "provenance": [],
      "authorship_tag": "ABX9TyMAg7LLBZNYkj/LGnP5S1SB",
      "include_colab_link": true
    },
    "kernelspec": {
      "name": "python3",
      "display_name": "Python 3"
    },
    "language_info": {
      "name": "python"
    }
  },
  "cells": [
    {
      "cell_type": "markdown",
      "metadata": {
        "id": "view-in-github",
        "colab_type": "text"
      },
      "source": [
        "<a href=\"https://colab.research.google.com/github/qaishijazi123/Qais-Hijazi-/blob/main/Parking_Garage_Problem.ipynb\" target=\"_parent\"><img src=\"https://colab.research.google.com/assets/colab-badge.svg\" alt=\"Open In Colab\"/></a>"
      ]
    },
    {
      "cell_type": "code",
      "execution_count": null,
      "metadata": {
        "id": "rKo6dPZiXb1c"
      },
      "outputs": [],
      "source": [
        "# Parking Garage Problem\n",
        "\n",
        "# Print the table header\n",
        "print(f'{\"Hours\":<10} {\"Fee\":<10}')\n",
        "\n",
        "# Loop through hours parked (from 1 to 8 hours)\n",
        "for hour in range(1, 9):\n",
        "    # Calculate the fee\n",
        "    fee = 5 + 2.5 * hour\n",
        "    if fee > 10:\n",
        "        fee = 10.0\n",
        "    if fee > 20:\n",
        "        fee = 20.0\n",
        "    # Print the results\n",
        "    print(f'{hour:<10} ${fee:<10.2f}')\n"
      ]
    }
  ]
}