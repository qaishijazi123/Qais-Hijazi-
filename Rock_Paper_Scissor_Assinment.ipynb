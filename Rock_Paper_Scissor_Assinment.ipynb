{
  "nbformat": 4,
  "nbformat_minor": 0,
  "metadata": {
    "colab": {
      "provenance": [],
      "authorship_tag": "ABX9TyNnlIf9+BD+wUORL57nmrbb",
      "include_colab_link": true
    },
    "kernelspec": {
      "name": "python3",
      "display_name": "Python 3"
    },
    "language_info": {
      "name": "python"
    }
  },
  "cells": [
    {
      "cell_type": "markdown",
      "metadata": {
        "id": "view-in-github",
        "colab_type": "text"
      },
      "source": [
        "<a href=\"https://colab.research.google.com/github/qaishijazi123/Qais-Hijazi-/blob/main/Rock_Paper_Scissor_Assinment.ipynb\" target=\"_parent\"><img src=\"https://colab.research.google.com/assets/colab-badge.svg\" alt=\"Open In Colab\"/></a>"
      ]
    },
    {
      "cell_type": "code",
      "execution_count": null,
      "metadata": {
        "colab": {
          "base_uri": "https://localhost:8080/"
        },
        "id": "qtStWfGrWVog",
        "outputId": "0a3eb906-7941-4c72-b214-9d655e1e626d"
      },
      "outputs": [
        {
          "output_type": "stream",
          "name": "stdout",
          "text": [
            "Choose rock, paper, or scissors: rock\n",
            "The computer chose rock. It's a tie!\n",
            "Would you like to play? (y/n) y\n",
            "Choose rock, paper, or scissors: rock\n",
            "The computer chose rock. It's a tie!\n",
            "Would you like to play again? (y/n) n\n",
            "It was fun playing! Bye!\n"
          ]
        }
      ],
      "source": [
        "# Rock, Paper, Scissors Program\n",
        "\n",
        "# First Block of Code\n",
        "import random\n",
        "\n",
        "user_choice = input('Choose rock, paper, or scissors: ')\n",
        "pc_choice = random.choice(['rock', 'paper', 'scissors'])\n",
        "\n",
        "if pc_choice == user_choice:\n",
        "    print(f'The computer chose {pc_choice}. It\\'s a tie!')\n",
        "elif (pc_choice == 'rock' and user_choice == 'paper') or (pc_choice == 'paper' and user_choice == 'scissors') or (pc_choice == 'scissors' and user_choice == 'rock'):\n",
        "    print(f'The computer chose {pc_choice}. Congrats, you win!')\n",
        "else:\n",
        "    print(f'The computer chose {pc_choice}. You lose. Maybe next time :(')\n",
        "\n",
        "# Second Block of Code (With Loop)\n",
        "import random\n",
        "\n",
        "userinput = input(\"Would you like to play? (y/n) \")\n",
        "while userinput == \"y\":\n",
        "    user_choice = input('Choose rock, paper, or scissors: ')\n",
        "    pc_choice = random.choice(['rock', 'paper', 'scissors'])\n",
        "\n",
        "    if pc_choice == user_choice:\n",
        "        print(f'The computer chose {pc_choice}. It\\'s a tie!')\n",
        "    elif (pc_choice == 'rock' and user_choice == 'paper') or (pc_choice == 'paper' and user_choice == 'scissors') or (pc_choice == 'scissors' and user_choice == 'rock'):\n",
        "        print(f'The computer chose {pc_choice}. Congrats, you win!')\n",
        "    else:\n",
        "        print(f'The computer chose {pc_choice}. You lose. Maybe next time :(')\n",
        "\n",
        "    userinput = input(\"Would you like to play again? (y/n) \")\n",
        "\n",
        "print(\"It was fun playing! Bye!\")\n"
      ]
    }
  ]
}